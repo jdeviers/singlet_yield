{
 "cells": [
  {
   "cell_type": "code",
   "execution_count": 5,
   "metadata": {},
   "outputs": [],
   "source": [
    "import math\n",
    "import functools\n",
    "import numpy as np\n",
    "import scipy as sci\n",
    "from scipy import linalg\n",
    "import matplotlib.pyplot as plt\n",
    "import qutip as qt\n",
    "from numba import jit, prange, float64, complex128, int64"
   ]
  },
  {
   "cell_type": "code",
   "execution_count": 6,
   "metadata": {},
   "outputs": [],
   "source": [
    "opstr2fun = {'x': lambda dim: qt.spin_Jx((dim-1)/2),\n",
    "             'y': lambda dim: qt.spin_Jy((dim-1)/2),\n",
    "             'z': lambda dim: qt.spin_Jz((dim-1)/2),\n",
    "             'p': lambda dim: qt.spin_Jp((dim-1)/2),\n",
    "             'm': lambda dim: qt.spin_Jm((dim-1)/2),\n",
    "             'i': qt.identity}\n",
    "\n",
    "def mkSpinOp(dims, specs):\n",
    "    ops = [qt.identity(d) for d in dims]\n",
    "    for ind, opstr in specs:\n",
    "        ops[ind] = ops[ind] * opstr2fun[opstr](dims[ind])\n",
    "    return qt.tensor(ops)\n",
    "def mkH1(dims, ind, parvec):\n",
    "    axes = ['x', 'y', 'z']\n",
    "    return functools.reduce(lambda a, b: a + b, \n",
    "               [v * mkSpinOp(dims, [(ind,ax)]) for v, ax in zip(parvec, axes) if v!=0])\n",
    "def mkH12(dims, ind1, ind2, parmat):\n",
    "    axes = ['x', 'y', 'z']\n",
    "    ops = []\n",
    "    for i in range(3):\n",
    "        for j in range(3):\n",
    "            if parmat[i,j] != 0:\n",
    "                ops.append(parmat[i,j] * mkSpinOp(dims, [(ind1,axes[i]), (ind2,axes[j])]))\n",
    "    return functools.reduce(lambda a, b: a + b, ops)"
   ]
  },
  {
   "cell_type": "code",
   "execution_count": 7,
   "metadata": {},
   "outputs": [
    {
     "name": "stdout",
     "output_type": "stream",
     "text": [
      "[2, 3, 3, 2]\n",
      "3\n",
      "0\n",
      "Quantum object: dims = [[2, 3, 3, 2], [2, 3, 3, 2]], shape = (36, 36), type = oper, isherm = True\n",
      "Qobj data =\n",
      "[[168.6595432+0.j   0.       +0.j   0.       +0.j ...   0.       +0.j\n",
      "    0.       +0.j   0.       +0.j]\n",
      " [  0.       +0.j 168.6595432+0.j   0.       +0.j ...   0.       +0.j\n",
      "    0.       +0.j   0.       +0.j]\n",
      " [  0.       +0.j   0.       +0.j 168.6595432+0.j ...   0.       +0.j\n",
      "    0.       +0.j   0.       +0.j]\n",
      " ...\n",
      " [  0.       +0.j   0.       +0.j   0.       +0.j ... 168.6595432+0.j\n",
      "    0.       +0.j   0.       +0.j]\n",
      " [  0.       +0.j   0.       +0.j   0.       +0.j ...   0.       +0.j\n",
      "  168.6595432+0.j   0.       +0.j]\n",
      " [  0.       +0.j   0.       +0.j   0.       +0.j ...   0.       +0.j\n",
      "    0.       +0.j 168.6595432+0.j]]\n",
      "1\n",
      "Quantum object: dims = [[2, 3, 3, 2], [2, 3, 3, 2]], shape = (36, 36), type = oper, isherm = True\n",
      "Qobj data =\n",
      "[[60.03269402+0.j          0.        +0.j          4.00843563+1.13003617j\n",
      "  ...  0.        +0.j          0.        +0.j\n",
      "   0.        +0.j        ]\n",
      " [ 0.        +0.j         60.03269402+0.j          0.        +0.j\n",
      "  ...  0.        +0.j          0.        +0.j\n",
      "   0.        +0.j        ]\n",
      " [ 4.00843563-1.13003617j  0.        +0.j          0.        +0.j\n",
      "  ...  0.        +0.j          0.        +0.j\n",
      "   0.        +0.j        ]\n",
      " ...\n",
      " [ 0.        +0.j          0.        +0.j          0.        +0.j\n",
      "  ...  0.        +0.j          0.        +0.j\n",
      "  -4.00843563-1.13003617j]\n",
      " [ 0.        +0.j          0.        +0.j          0.        +0.j\n",
      "  ...  0.        +0.j         60.03269402+0.j\n",
      "   0.        +0.j        ]\n",
      " [ 0.        +0.j          0.        +0.j          0.        +0.j\n",
      "  ... -4.00843563+1.13003617j  0.        +0.j\n",
      "  60.03269402+0.j        ]]\n",
      "2\n",
      "Quantum object: dims = [[2, 3, 3, 2], [2, 3, 3, 2]], shape = (36, 36), type = oper, isherm = True\n",
      "Qobj data =\n",
      "[[-18.27087455+0.j           0.40268306+0.31547559j\n",
      "    0.        +0.j         ...   0.        +0.j\n",
      "    0.        +0.j           0.        +0.j        ]\n",
      " [  0.40268306-0.31547559j  18.27087455+0.j\n",
      "    0.        +0.j         ...   0.        +0.j\n",
      "    0.        +0.j           0.        +0.j        ]\n",
      " [  0.        +0.j           0.        +0.j\n",
      "  -18.27087455+0.j         ...   0.        +0.j\n",
      "    0.        +0.j           0.        +0.j        ]\n",
      " ...\n",
      " [  0.        +0.j           0.        +0.j\n",
      "    0.        +0.j         ... -18.27087455+0.j\n",
      "    0.        +0.j           0.        +0.j        ]\n",
      " [  0.        +0.j           0.        +0.j\n",
      "    0.        +0.j         ...   0.        +0.j\n",
      "   18.27087455+0.j          -0.40268306-0.31547559j]\n",
      " [  0.        +0.j           0.        +0.j\n",
      "    0.        +0.j         ...   0.        +0.j\n",
      "   -0.40268306+0.31547559j -18.27087455+0.j        ]]\n",
      "Quantum object: dims = [[2, 3, 3, 2], [2, 3, 3, 2]], shape = (36, 36), type = oper, isherm = True\n",
      "Qobj data =\n",
      "[[0. 0. 0. ... 0. 0. 0.]\n",
      " [0. 0. 0. ... 0. 0. 0.]\n",
      " [0. 0. 0. ... 0. 0. 0.]\n",
      " ...\n",
      " [0. 0. 0. ... 0. 0. 0.]\n",
      " [0. 0. 0. ... 0. 0. 0.]\n",
      " [0. 0. 0. ... 0. 0. 0.]]\n"
     ]
    },
    {
     "ename": "TypeError",
     "evalue": "operand 'Qobj' does not support ufuncs (__array_ufunc__=None)",
     "output_type": "error",
     "traceback": [
      "\u001b[0;31m---------------------------------------------------------------------------\u001b[0m",
      "\u001b[0;31mTypeError\u001b[0m                                 Traceback (most recent call last)",
      "\u001b[0;32m<ipython-input-7-b4f2062e9063>\u001b[0m in \u001b[0;36m<module>\u001b[0;34m\u001b[0m\n\u001b[1;32m     45\u001b[0m \u001b[0mH1\u001b[0m \u001b[0;34m=\u001b[0m \u001b[0msum\u001b[0m\u001b[0;34m(\u001b[0m\u001b[0mmkH12\u001b[0m\u001b[0;34m(\u001b[0m\u001b[0mdims1\u001b[0m\u001b[0;34m,\u001b[0m \u001b[0;36m0\u001b[0m\u001b[0;34m,\u001b[0m \u001b[0mi\u001b[0m\u001b[0;34m+\u001b[0m\u001b[0;36m1\u001b[0m\u001b[0;34m,\u001b[0m \u001b[0mAs1\u001b[0m\u001b[0;34m[\u001b[0m\u001b[0mi\u001b[0m\u001b[0;34m]\u001b[0m\u001b[0;34m)\u001b[0m \u001b[0;32mfor\u001b[0m \u001b[0mi\u001b[0m \u001b[0;32min\u001b[0m \u001b[0mrange\u001b[0m\u001b[0;34m(\u001b[0m\u001b[0mlen\u001b[0m\u001b[0;34m(\u001b[0m\u001b[0mAs1\u001b[0m\u001b[0;34m)\u001b[0m\u001b[0;34m)\u001b[0m\u001b[0;34m)\u001b[0m\u001b[0;34m\u001b[0m\u001b[0;34m\u001b[0m\u001b[0m\n\u001b[1;32m     46\u001b[0m \u001b[0mlambda1\u001b[0m\u001b[0;34m,\u001b[0m \u001b[0mV\u001b[0m \u001b[0;34m=\u001b[0m \u001b[0mnp\u001b[0m\u001b[0;34m.\u001b[0m\u001b[0mlinalg\u001b[0m\u001b[0;34m.\u001b[0m\u001b[0meigh\u001b[0m\u001b[0;34m(\u001b[0m\u001b[0mH1\u001b[0m\u001b[0;34m.\u001b[0m\u001b[0mfull\u001b[0m\u001b[0;34m(\u001b[0m\u001b[0;34m)\u001b[0m\u001b[0;34m)\u001b[0m\u001b[0;34m\u001b[0m\u001b[0;34m\u001b[0m\u001b[0m\n\u001b[0;32m---> 47\u001b[0;31m \u001b[0mSxyz1\u001b[0m \u001b[0;34m=\u001b[0m \u001b[0mnp\u001b[0m\u001b[0;34m.\u001b[0m\u001b[0marray\u001b[0m\u001b[0;34m(\u001b[0m\u001b[0;34m[\u001b[0m\u001b[0mV\u001b[0m\u001b[0;34m.\u001b[0m\u001b[0mconj\u001b[0m\u001b[0;34m(\u001b[0m\u001b[0;34m)\u001b[0m\u001b[0;34m.\u001b[0m\u001b[0mT\u001b[0m \u001b[0;34m@\u001b[0m \u001b[0;34m(\u001b[0m\u001b[0mmkSpinOp\u001b[0m\u001b[0;34m(\u001b[0m\u001b[0mdims1\u001b[0m\u001b[0;34m,\u001b[0m \u001b[0;34m[\u001b[0m\u001b[0;34m(\u001b[0m\u001b[0;36m0\u001b[0m\u001b[0;34m,\u001b[0m\u001b[0max\u001b[0m\u001b[0;34m)\u001b[0m\u001b[0;34m]\u001b[0m\u001b[0;34m)\u001b[0m \u001b[0;34m@\u001b[0m \u001b[0mV\u001b[0m\u001b[0;34m)\u001b[0m \u001b[0;32mfor\u001b[0m \u001b[0max\u001b[0m \u001b[0;32min\u001b[0m \u001b[0;34m[\u001b[0m\u001b[0;34m'x'\u001b[0m\u001b[0;34m,\u001b[0m \u001b[0;34m'y'\u001b[0m\u001b[0;34m,\u001b[0m \u001b[0;34m'z'\u001b[0m\u001b[0;34m]\u001b[0m\u001b[0;34m]\u001b[0m\u001b[0;34m)\u001b[0m\u001b[0;34m\u001b[0m\u001b[0;34m\u001b[0m\u001b[0m\n\u001b[0m",
      "\u001b[0;32m<ipython-input-7-b4f2062e9063>\u001b[0m in \u001b[0;36m<listcomp>\u001b[0;34m(.0)\u001b[0m\n\u001b[1;32m     45\u001b[0m \u001b[0mH1\u001b[0m \u001b[0;34m=\u001b[0m \u001b[0msum\u001b[0m\u001b[0;34m(\u001b[0m\u001b[0mmkH12\u001b[0m\u001b[0;34m(\u001b[0m\u001b[0mdims1\u001b[0m\u001b[0;34m,\u001b[0m \u001b[0;36m0\u001b[0m\u001b[0;34m,\u001b[0m \u001b[0mi\u001b[0m\u001b[0;34m+\u001b[0m\u001b[0;36m1\u001b[0m\u001b[0;34m,\u001b[0m \u001b[0mAs1\u001b[0m\u001b[0;34m[\u001b[0m\u001b[0mi\u001b[0m\u001b[0;34m]\u001b[0m\u001b[0;34m)\u001b[0m \u001b[0;32mfor\u001b[0m \u001b[0mi\u001b[0m \u001b[0;32min\u001b[0m \u001b[0mrange\u001b[0m\u001b[0;34m(\u001b[0m\u001b[0mlen\u001b[0m\u001b[0;34m(\u001b[0m\u001b[0mAs1\u001b[0m\u001b[0;34m)\u001b[0m\u001b[0;34m)\u001b[0m\u001b[0;34m)\u001b[0m\u001b[0;34m\u001b[0m\u001b[0;34m\u001b[0m\u001b[0m\n\u001b[1;32m     46\u001b[0m \u001b[0mlambda1\u001b[0m\u001b[0;34m,\u001b[0m \u001b[0mV\u001b[0m \u001b[0;34m=\u001b[0m \u001b[0mnp\u001b[0m\u001b[0;34m.\u001b[0m\u001b[0mlinalg\u001b[0m\u001b[0;34m.\u001b[0m\u001b[0meigh\u001b[0m\u001b[0;34m(\u001b[0m\u001b[0mH1\u001b[0m\u001b[0;34m.\u001b[0m\u001b[0mfull\u001b[0m\u001b[0;34m(\u001b[0m\u001b[0;34m)\u001b[0m\u001b[0;34m)\u001b[0m\u001b[0;34m\u001b[0m\u001b[0;34m\u001b[0m\u001b[0m\n\u001b[0;32m---> 47\u001b[0;31m \u001b[0mSxyz1\u001b[0m \u001b[0;34m=\u001b[0m \u001b[0mnp\u001b[0m\u001b[0;34m.\u001b[0m\u001b[0marray\u001b[0m\u001b[0;34m(\u001b[0m\u001b[0;34m[\u001b[0m\u001b[0mV\u001b[0m\u001b[0;34m.\u001b[0m\u001b[0mconj\u001b[0m\u001b[0;34m(\u001b[0m\u001b[0;34m)\u001b[0m\u001b[0;34m.\u001b[0m\u001b[0mT\u001b[0m \u001b[0;34m@\u001b[0m \u001b[0;34m(\u001b[0m\u001b[0mmkSpinOp\u001b[0m\u001b[0;34m(\u001b[0m\u001b[0mdims1\u001b[0m\u001b[0;34m,\u001b[0m \u001b[0;34m[\u001b[0m\u001b[0;34m(\u001b[0m\u001b[0;36m0\u001b[0m\u001b[0;34m,\u001b[0m\u001b[0max\u001b[0m\u001b[0;34m)\u001b[0m\u001b[0;34m]\u001b[0m\u001b[0;34m)\u001b[0m \u001b[0;34m@\u001b[0m \u001b[0mV\u001b[0m\u001b[0;34m)\u001b[0m \u001b[0;32mfor\u001b[0m \u001b[0max\u001b[0m \u001b[0;32min\u001b[0m \u001b[0;34m[\u001b[0m\u001b[0;34m'x'\u001b[0m\u001b[0;34m,\u001b[0m \u001b[0;34m'y'\u001b[0m\u001b[0;34m,\u001b[0m \u001b[0;34m'z'\u001b[0m\u001b[0;34m]\u001b[0m\u001b[0;34m]\u001b[0m\u001b[0;34m)\u001b[0m\u001b[0;34m\u001b[0m\u001b[0;34m\u001b[0m\u001b[0m\n\u001b[0m",
      "\u001b[0;31mTypeError\u001b[0m: operand 'Qobj' does not support ufuncs (__array_ufunc__=None)"
     ]
    }
   ],
   "source": [
    "# FAD*- hfcs in MHz\n",
    "hfcsF = {\n",
    "    'N5' : [[-2.84803, 0.0739994, -1.75741],\n",
    "            [0.0739994, -2.5667, 0.326813],\n",
    "            [-1.75741, 0.326813, 53.686]],\n",
    "    'N10': [[-0.0979402, 0.00195169, 1.80443],\n",
    "            [0.00195169, -0.513124, -0.508695],\n",
    "            [1.80443, -0.508695, 19.109]],\n",
    "    'H7' : [[-3.7789, 0., 0.],\n",
    "            [0., -3.7789, 0.],\n",
    "            [0., 0., -3.7789]],\n",
    "    'H8' : [[11.872, 0., 0.],\n",
    "            [0., 11.872, 0.],\n",
    "            [0., 0., 11.872]],\n",
    "    'Hb1': [[8.48607, -0.878249, -1.22263],\n",
    "            [-0.878249, 5.56589, 0.299019],\n",
    "            [-1.22263, 0.299019, 5.3476]],\n",
    "    'Hb2': [[5.30097, 1.02387, -1.09139],\n",
    "            [1.02387, 2.32064, -0.269562],\n",
    "            [-1.09139, -0.269562, 1.93875]],\n",
    "    'H9' : [[2.3771, 0.860593, -0.0221318],\n",
    "            [0.860593, 4.16473, 0.177746],\n",
    "            [-0.0221318, 0.177746, 0.324792]],\n",
    "    'H6' : [[-5.31431, -1.03422, 0.256356],\n",
    "            [-1.03422, -13.3929, -0.200838],\n",
    "            [0.256356, -0.200838, -11.6316]],\n",
    "    'Hc' : [[1.27891, -0.0243844, 0.144687],\n",
    "            [-0.0243844, -0.595294, -0.014526],\n",
    "            [0.144687, -0.014526, -0.568057]]\n",
    "    }\n",
    "# Remarks: odd number of H -> <m|Sx,y,z|m> = 0 -> diagonal contrib = 1/4\n",
    "#          repeat H7 and H8 if desired\n",
    "# nucLabelsF = ['N5', 'N10', 'H6', 'H8', 'Hb1', 'Hb2', 'H9', 'H7', 'Hc']\n",
    "nucLabelsF = ['N5', 'N10', 'H6']\n",
    "As1 = [np.array(hfcsF[nuc])*2*math.pi for nuc in nucLabelsF]\n",
    "dims1 = [2, *[3 if nuc[0]=='N' else 2 for nuc in nucLabelsF]]\n",
    "\n",
    "print(dims1)\n",
    "print(len(As1))\n",
    "for i in range(len(As1)):\n",
    "    print(i)\n",
    "    print( mkH12(dims1, 0, i+1, As1[i]) )\n",
    "    \n",
    "print(mkSpinOp(dims1, [(0,'x')]))\n",
    "    \n",
    "H1 = sum(mkH12(dims1, 0, i+1, As1[i]) for i in range(len(As1)))\n",
    "lambda1, V = np.linalg.eigh(H1.full())\n",
    "Sxyz1 = np.array([V.conj().T @ (mkSpinOp(dims1, [(0,ax)]) @ V) for ax in ['x', 'y', 'z']])"
   ]
  },
  {
   "cell_type": "code",
   "execution_count": 8,
   "metadata": {},
   "outputs": [
    {
     "ename": "TypeError",
     "evalue": "operand 'Qobj' does not support ufuncs (__array_ufunc__=None)",
     "output_type": "error",
     "traceback": [
      "\u001b[0;31m---------------------------------------------------------------------------\u001b[0m",
      "\u001b[0;31mTypeError\u001b[0m                                 Traceback (most recent call last)",
      "\u001b[0;32m<ipython-input-8-97595c383eef>\u001b[0m in \u001b[0;36m<module>\u001b[0;34m\u001b[0m\n\u001b[1;32m     35\u001b[0m \u001b[0mH2\u001b[0m \u001b[0;34m=\u001b[0m \u001b[0msum\u001b[0m\u001b[0;34m(\u001b[0m\u001b[0mmkH12\u001b[0m\u001b[0;34m(\u001b[0m\u001b[0mdims2\u001b[0m\u001b[0;34m,\u001b[0m \u001b[0;36m0\u001b[0m\u001b[0;34m,\u001b[0m \u001b[0mi\u001b[0m\u001b[0;34m+\u001b[0m\u001b[0;36m1\u001b[0m\u001b[0;34m,\u001b[0m \u001b[0mAs2\u001b[0m\u001b[0;34m[\u001b[0m\u001b[0mi\u001b[0m\u001b[0;34m]\u001b[0m\u001b[0;34m)\u001b[0m \u001b[0;32mfor\u001b[0m \u001b[0mi\u001b[0m \u001b[0;32min\u001b[0m \u001b[0mrange\u001b[0m\u001b[0;34m(\u001b[0m\u001b[0mlen\u001b[0m\u001b[0;34m(\u001b[0m\u001b[0mAs2\u001b[0m\u001b[0;34m)\u001b[0m\u001b[0;34m)\u001b[0m\u001b[0;34m)\u001b[0m\u001b[0;34m\u001b[0m\u001b[0;34m\u001b[0m\u001b[0m\n\u001b[1;32m     36\u001b[0m \u001b[0mlambda2\u001b[0m\u001b[0;34m,\u001b[0m \u001b[0mV\u001b[0m \u001b[0;34m=\u001b[0m \u001b[0mnp\u001b[0m\u001b[0;34m.\u001b[0m\u001b[0mlinalg\u001b[0m\u001b[0;34m.\u001b[0m\u001b[0meigh\u001b[0m\u001b[0;34m(\u001b[0m\u001b[0mH2\u001b[0m\u001b[0;34m.\u001b[0m\u001b[0mfull\u001b[0m\u001b[0;34m(\u001b[0m\u001b[0;34m)\u001b[0m\u001b[0;34m)\u001b[0m\u001b[0;34m\u001b[0m\u001b[0;34m\u001b[0m\u001b[0m\n\u001b[0;32m---> 37\u001b[0;31m \u001b[0mSxyz2\u001b[0m \u001b[0;34m=\u001b[0m \u001b[0mnp\u001b[0m\u001b[0;34m.\u001b[0m\u001b[0marray\u001b[0m\u001b[0;34m(\u001b[0m\u001b[0;34m[\u001b[0m\u001b[0mV\u001b[0m\u001b[0;34m.\u001b[0m\u001b[0mconj\u001b[0m\u001b[0;34m(\u001b[0m\u001b[0;34m)\u001b[0m\u001b[0;34m.\u001b[0m\u001b[0mT\u001b[0m \u001b[0;34m@\u001b[0m \u001b[0;34m(\u001b[0m\u001b[0mmkSpinOp\u001b[0m\u001b[0;34m(\u001b[0m\u001b[0mdims2\u001b[0m\u001b[0;34m,\u001b[0m \u001b[0;34m[\u001b[0m\u001b[0;34m(\u001b[0m\u001b[0;36m0\u001b[0m\u001b[0;34m,\u001b[0m\u001b[0max\u001b[0m\u001b[0;34m)\u001b[0m\u001b[0;34m]\u001b[0m\u001b[0;34m)\u001b[0m \u001b[0;34m@\u001b[0m \u001b[0mV\u001b[0m\u001b[0;34m)\u001b[0m \u001b[0;32mfor\u001b[0m \u001b[0max\u001b[0m \u001b[0;32min\u001b[0m \u001b[0;34m[\u001b[0m\u001b[0;34m'x'\u001b[0m\u001b[0;34m,\u001b[0m \u001b[0;34m'y'\u001b[0m\u001b[0;34m,\u001b[0m \u001b[0;34m'z'\u001b[0m\u001b[0;34m]\u001b[0m\u001b[0;34m]\u001b[0m\u001b[0;34m)\u001b[0m\u001b[0;34m\u001b[0m\u001b[0;34m\u001b[0m\u001b[0m\n\u001b[0m",
      "\u001b[0;32m<ipython-input-8-97595c383eef>\u001b[0m in \u001b[0;36m<listcomp>\u001b[0;34m(.0)\u001b[0m\n\u001b[1;32m     35\u001b[0m \u001b[0mH2\u001b[0m \u001b[0;34m=\u001b[0m \u001b[0msum\u001b[0m\u001b[0;34m(\u001b[0m\u001b[0mmkH12\u001b[0m\u001b[0;34m(\u001b[0m\u001b[0mdims2\u001b[0m\u001b[0;34m,\u001b[0m \u001b[0;36m0\u001b[0m\u001b[0;34m,\u001b[0m \u001b[0mi\u001b[0m\u001b[0;34m+\u001b[0m\u001b[0;36m1\u001b[0m\u001b[0;34m,\u001b[0m \u001b[0mAs2\u001b[0m\u001b[0;34m[\u001b[0m\u001b[0mi\u001b[0m\u001b[0;34m]\u001b[0m\u001b[0;34m)\u001b[0m \u001b[0;32mfor\u001b[0m \u001b[0mi\u001b[0m \u001b[0;32min\u001b[0m \u001b[0mrange\u001b[0m\u001b[0;34m(\u001b[0m\u001b[0mlen\u001b[0m\u001b[0;34m(\u001b[0m\u001b[0mAs2\u001b[0m\u001b[0;34m)\u001b[0m\u001b[0;34m)\u001b[0m\u001b[0;34m)\u001b[0m\u001b[0;34m\u001b[0m\u001b[0;34m\u001b[0m\u001b[0m\n\u001b[1;32m     36\u001b[0m \u001b[0mlambda2\u001b[0m\u001b[0;34m,\u001b[0m \u001b[0mV\u001b[0m \u001b[0;34m=\u001b[0m \u001b[0mnp\u001b[0m\u001b[0;34m.\u001b[0m\u001b[0mlinalg\u001b[0m\u001b[0;34m.\u001b[0m\u001b[0meigh\u001b[0m\u001b[0;34m(\u001b[0m\u001b[0mH2\u001b[0m\u001b[0;34m.\u001b[0m\u001b[0mfull\u001b[0m\u001b[0;34m(\u001b[0m\u001b[0;34m)\u001b[0m\u001b[0;34m)\u001b[0m\u001b[0;34m\u001b[0m\u001b[0;34m\u001b[0m\u001b[0m\n\u001b[0;32m---> 37\u001b[0;31m \u001b[0mSxyz2\u001b[0m \u001b[0;34m=\u001b[0m \u001b[0mnp\u001b[0m\u001b[0;34m.\u001b[0m\u001b[0marray\u001b[0m\u001b[0;34m(\u001b[0m\u001b[0;34m[\u001b[0m\u001b[0mV\u001b[0m\u001b[0;34m.\u001b[0m\u001b[0mconj\u001b[0m\u001b[0;34m(\u001b[0m\u001b[0;34m)\u001b[0m\u001b[0;34m.\u001b[0m\u001b[0mT\u001b[0m \u001b[0;34m@\u001b[0m \u001b[0;34m(\u001b[0m\u001b[0mmkSpinOp\u001b[0m\u001b[0;34m(\u001b[0m\u001b[0mdims2\u001b[0m\u001b[0;34m,\u001b[0m \u001b[0;34m[\u001b[0m\u001b[0;34m(\u001b[0m\u001b[0;36m0\u001b[0m\u001b[0;34m,\u001b[0m\u001b[0max\u001b[0m\u001b[0;34m)\u001b[0m\u001b[0;34m]\u001b[0m\u001b[0;34m)\u001b[0m \u001b[0;34m@\u001b[0m \u001b[0mV\u001b[0m\u001b[0;34m)\u001b[0m \u001b[0;32mfor\u001b[0m \u001b[0max\u001b[0m \u001b[0;32min\u001b[0m \u001b[0;34m[\u001b[0m\u001b[0;34m'x'\u001b[0m\u001b[0;34m,\u001b[0m \u001b[0;34m'y'\u001b[0m\u001b[0;34m,\u001b[0m \u001b[0;34m'z'\u001b[0m\u001b[0;34m]\u001b[0m\u001b[0;34m]\u001b[0m\u001b[0;34m)\u001b[0m\u001b[0;34m\u001b[0m\u001b[0;34m\u001b[0m\u001b[0m\n\u001b[0m",
      "\u001b[0;31mTypeError\u001b[0m: operand 'Qobj' does not support ufuncs (__array_ufunc__=None)"
     ]
    }
   ],
   "source": [
    "# W*+\n",
    "hfcsW = {\n",
    "    'N1' : [[-1.94218, -0.0549954, -0.21326],\n",
    "            [-0.0549954, -2.29723, -0.441875],\n",
    "            [-0.21326, -0.441875, 19.156]],\n",
    "    'H1' : [[-2.14056, 6.31534, 0.17339],\n",
    "            [6.31534, -18.9038, -0.0420204],\n",
    "            [0.17339, -0.0420204, -14.746]],\n",
    "    'H2' : [[-21.1751, 4.41952, 0.163566],\n",
    "            [4.41952, -4.32747, 0.110325],\n",
    "            [0.163566, 0.110325, -15.993]],\n",
    "    'Hb1': [[8.39562, -2.71765, -0.582406],\n",
    "            [-2.71765, 8.11649, 0.637991],\n",
    "            [-0.582406, 0.637991, 4.94689]],\n",
    "    'Hb2': [[27.4878, 0.814461, -1.79339],\n",
    "            [0.814461, 24.0013, -0.351985],\n",
    "            [-1.79339, -0.351985, 22.8546]],\n",
    "    'H4' : [[-6.44205, 0.787534, 0.270961],\n",
    "            [0.787534, -23.0383, -0.0378865],\n",
    "            [0.270961, -0.0378865, -17.0576]],\n",
    "    'H5' : [[2.50597, -1.01627, 0.0195079],\n",
    "            [-1.01627, 4.51584, -0.0838277],\n",
    "            [0.0195079, -0.0838277, 0.654643]],\n",
    "    'H6' : [[-14.5993, -4.81629, 0.0840456],\n",
    "            [-4.81629, -5.12283, 0.0246775],\n",
    "            [0.0840456, 0.0246775, -11.2632]],\n",
    "    'H7' : [[-1.05186, 1.16764, 0.0917152],\n",
    "            [1.16764, -8.50485, 0.0678854],\n",
    "            [0.0917152, 0.0678854, -7.36221]]\n",
    "    }\n",
    "# nucLabelsW= ['N1', 'H1', 'H2', 'Hb1', 'Hb2', 'H4', 'H6', 'H7', 'H5']\n",
    "nucLabelsW= ['N1', 'H1']\n",
    "As2 = [np.array(hfcsW[nuc])*2*math.pi for nuc in nucLabelsW]\n",
    "dims2 = [2, *[3 if nuc[0]=='N' else 2 for nuc in nucLabelsW]]\n",
    "H2 = sum(mkH12(dims2, 0, i+1, As2[i]) for i in range(len(As2)))\n",
    "lambda2, V = np.linalg.eigh(H2.full())\n",
    "Sxyz2 = np.array([V.conj().T @ (mkSpinOp(dims2, [(0,ax)]) @ V) for ax in ['x', 'y', 'z']])"
   ]
  },
  {
   "cell_type": "code",
   "execution_count": 9,
   "metadata": {},
   "outputs": [],
   "source": [
    "Sxyz1T = np.transpose(Sxyz1, (1,2,0)).copy()\n",
    "Sxyz2T = np.transpose(Sxyz2, (1,2,0)).copy()"
   ]
  },
  {
   "cell_type": "code",
   "execution_count": 10,
   "metadata": {},
   "outputs": [
    {
     "data": {
      "text/plain": [
       "  C_CONTIGUOUS : True\n",
       "  F_CONTIGUOUS : False\n",
       "  OWNDATA : True\n",
       "  WRITEABLE : True\n",
       "  ALIGNED : True\n",
       "  WRITEBACKIFCOPY : False\n",
       "  UPDATEIFCOPY : False"
      ]
     },
     "execution_count": 10,
     "metadata": {},
     "output_type": "execute_result"
    }
   ],
   "source": [
    "Sxyz1T.flags"
   ]
  },
  {
   "cell_type": "code",
   "execution_count": 11,
   "metadata": {},
   "outputs": [],
   "source": [
    "@jit(nopython=True)\n",
    "def evalYield_diag(k, Sxyz1, lambda1, Sxyz2, lambda2):\n",
    "    # Sxyz = [Sx, Sy, Sz]\n",
    "    # Sxyz1 = np.transpose(Sxyz1, (1,2,0))\n",
    "    # Sxyz2 = np.transpose(Sxyz2, (1,2,0))\n",
    "    d1 = Sxyz1.shape[0]\n",
    "    d2 = Sxyz2.shape[0]\n",
    "    z = d1 * d2 // 4\n",
    "    v = 0.0\n",
    "    for a1 in range(d1):\n",
    "        sA = Sxyz1[a1,a1,:]\n",
    "        for b1 in range(d2):\n",
    "            sB = Sxyz2[b1,b1,:]\n",
    "            #print(np.abs(sA[0]*sB[0] + sA[1]*sB[1] + sA[2]*sB[2])**2)\n",
    "            v += np.abs(sA[0]*sB[0] + sA[1]*sB[1] + sA[2]*sB[2])**2\n",
    "    v /= z\n",
    "    return 1/4 + v"
   ]
  },
  {
   "cell_type": "code",
   "execution_count": 12,
   "metadata": {},
   "outputs": [],
   "source": [
    "@jit(nopython=True,fastmath=True)\n",
    "def evalYield_offdiag(k, Sxyz1, lambda1, Sxyz2, lambda2):\n",
    "    # Sxyz = [Sx, Sy, Sz]\n",
    "    # Sxyz1 = np.transpose(Sxyz1, (1,2,0))\n",
    "    # Sxyz2 = np.transpose(Sxyz2, (1,2,0))\n",
    "    d1 = Sxyz1.shape[0]\n",
    "    d2 = Sxyz2.shape[0]\n",
    "    z = d1 * d2 // 4\n",
    "    v = 0.0\n",
    "    k2 = k*k\n",
    "    for a1 in range(d1):\n",
    "        lambda1_a1 = lambda1[a1]\n",
    "        for b1 in range(d2):\n",
    "            a2 = a1\n",
    "            b2 = b1\n",
    "            sA = Sxyz1[a1,a2,:]\n",
    "            dl1 = lambda1_a1 - lambda1[a2]\n",
    "            while True:\n",
    "                b2 += 1\n",
    "                if b2 == d2:\n",
    "                    b2 = 0\n",
    "                    a2 += 1\n",
    "                    if a2 == d1:\n",
    "                        break\n",
    "                    sA = Sxyz1[a1,a2,:]\n",
    "                    dl1 = lambda1_a1 - lambda1[a2]\n",
    "                sB = Sxyz2[b1,b2,:]\n",
    "                dl2 = lambda2[b1] - lambda2[b2]\n",
    "                v += np.abs(sA[0]*sB[0] + sA[1]*sB[1] + sA[2]*sB[2])**2 / (k2 + (dl1 + dl2)**2)\n",
    "    v *= k2/z*2\n",
    "    return v"
   ]
  },
  {
   "cell_type": "code",
   "execution_count": 13,
   "metadata": {},
   "outputs": [
    {
     "data": {
      "text/plain": [
       "0.25"
      ]
     },
     "execution_count": 13,
     "metadata": {},
     "output_type": "execute_result"
    }
   ],
   "source": [
    "evalYield_diag(1.0, Sxyz1T, lambda1, Sxyz2T, lambda2)"
   ]
  },
  {
   "cell_type": "code",
   "execution_count": 15,
   "metadata": {},
   "outputs": [
    {
     "name": "stdout",
     "output_type": "stream",
     "text": [
      "Wall time: 3 ms\n"
     ]
    },
    {
     "data": {
      "text/plain": [
       "0.3121077851785481"
      ]
     },
     "execution_count": 15,
     "metadata": {},
     "output_type": "execute_result"
    }
   ],
   "source": [
    "%%time\n",
    "evalYield_diag(1.0, Sxyz1T, lambda1, Sxyz2T, lambda2) + evalYield_offdiag(1.0, Sxyz1T, lambda1, Sxyz2T, lambda2)\n",
    "# 3 + 2 nuclei: 0.3121077851785481"
   ]
  },
  {
   "cell_type": "code",
   "execution_count": 25,
   "metadata": {},
   "outputs": [],
   "source": [
    "import random"
   ]
  },
  {
   "cell_type": "code",
   "execution_count": 16,
   "metadata": {},
   "outputs": [],
   "source": [
    "@jit(nopython=True)\n",
    "def evalYield_offDiag_random(k, Sxyz1, lambda1, Sxyz2, lambda2, nr_draws):\n",
    "    # Sxyz = [Sx, Sy, Sz]\n",
    "    # Sxyz1 = np.transpose(Sxyz1, (1,2,0))\n",
    "    # Sxyz2 = np.transpose(Sxyz2, (1,2,0))\n",
    "    d1 = Sxyz1.shape[0]\n",
    "    d2 = Sxyz2.shape[0]\n",
    "    z = d1 * d2 // 4\n",
    "    v = 0.0\n",
    "    k2 = k*k\n",
    "    n = 0\n",
    "    while n < nr_draws:\n",
    "        a1 = np.random.randint(0, d1)\n",
    "        a2 = np.random.randint(0, d1)\n",
    "        b1 = np.random.randint(0, d2)\n",
    "        b2 = np.random.randint(0, d2)\n",
    "        if (a1 == a2) and (b1 == b2):\n",
    "            continue\n",
    "        dl1 = lambda1[a1] - lambda1[a2]\n",
    "        dl2 = lambda2[b1] - lambda2[b2]\n",
    "        sA = Sxyz1[a1,a2,:]\n",
    "        sB = Sxyz2[b1,b2,:]\n",
    "        v += np.abs(sA[0]*sB[0] + sA[1]*sB[1] + sA[2]*sB[2])**2 / (k2 + (dl1 + dl2)**2)\n",
    "        n += 1\n",
    "    return (v / n) * k2/z"
   ]
  },
  {
   "cell_type": "code",
   "execution_count": 18,
   "metadata": {},
   "outputs": [
    {
     "data": {
      "text/plain": [
       "0.31264295318416335"
      ]
     },
     "execution_count": 18,
     "metadata": {},
     "output_type": "execute_result"
    }
   ],
   "source": [
    "d1 = Sxyz1T.shape[0]\n",
    "d2 = Sxyz2T.shape[0]\n",
    "d = d1*d2\n",
    "(d**2-d)*evalYield_offDiag_random(1.0, Sxyz1T, lambda1, Sxyz2T, lambda2, 1000000) + evalYield_diag(1.0, Sxyz1T, lambda1, Sxyz2T, lambda2)"
   ]
  },
  {
   "cell_type": "code",
   "execution_count": 15,
   "metadata": {},
   "outputs": [
    {
     "data": {
      "text/plain": [
       "21229056"
      ]
     },
     "execution_count": 15,
     "metadata": {},
     "output_type": "execute_result"
    }
   ],
   "source": [
    "(d**2-d) # scaling could be included in function"
   ]
  },
  {
   "cell_type": "code",
   "execution_count": 34,
   "metadata": {},
   "outputs": [],
   "source": [
    "logn = np.arange(2.5,8,0.5)\n",
    "y0 = evalYield_offdiag(1.0, Sxyz1T, lambda1, Sxyz2T, lambda2)\n",
    "y = [(d**2-d)*evalYield_offDiag_random(1.0, Sxyz1T, lambda1, Sxyz2T, lambda2, n) for n in 10**logn]"
   ]
  },
  {
   "cell_type": "code",
   "execution_count": 35,
   "metadata": {},
   "outputs": [
    {
     "data": {
      "text/plain": [
       "[<matplotlib.lines.Line2D at 0xbfd38b0>]"
      ]
     },
     "execution_count": 35,
     "metadata": {},
     "output_type": "execute_result"
    },
    {
     "data": {
      "image/png": "[encoded data removed]",
      "text/plain": [
       "<Figure size 432x288 with 1 Axes>"
      ]
     },
     "metadata": {
      "needs_background": "light"
     },
     "output_type": "display_data"
    }
   ],
   "source": [
    "plt.plot(logn, np.array(y)-y0)"
   ]
  },
  {
   "cell_type": "code",
   "execution_count": null,
   "metadata": {},
   "outputs": [],
   "source": [
    "# Idea: an alternative might be to only sample the important off-diagonal elements, i.e. only those for which dl1 + dl2 is small. One could e.g. pre-calculate all dl1 and dl2 sort them (keep track of induces) and then only use the important elements to calculate the sum."
   ]
  }
 ],
 "metadata": {
  "kernelspec": {
   "display_name": "Python 3",
   "language": "python",
   "name": "python3"
  },
  "language_info": {
   "codemirror_mode": {
    "name": "ipython",
    "version": 3
   },
   "file_extension": ".py",
   "mimetype": "text/x-python",
   "name": "python",
   "nbconvert_exporter": "python",
   "pygments_lexer": "ipython3",
   "version": "3.8.5"
  }
 },
 "nbformat": 4,
 "nbformat_minor": 4
}
